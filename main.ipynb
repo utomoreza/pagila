{
 "nbformat": 4,
 "nbformat_minor": 2,
 "metadata": {
  "language_info": {
   "name": "python",
   "codemirror_mode": {
    "name": "ipython",
    "version": 3
   },
   "version": "3.7.4-final"
  },
  "orig_nbformat": 2,
  "file_extension": ".py",
  "mimetype": "text/x-python",
  "name": "python",
  "npconvert_exporter": "python",
  "pygments_lexer": "ipython3",
  "version": 3,
  "kernelspec": {
   "name": "python37464bitbasecondaddc4cf1ed80f44b7b44fe4cd566df75e",
   "display_name": "Python 3.7.4 64-bit ('base': conda)"
  }
 },
 "cells": [
  {
   "cell_type": "markdown",
   "metadata": {},
   "source": [
    "# Transit System of the World"
   ]
  },
  {
   "cell_type": "markdown",
   "metadata": {},
   "source": [
    "[Source](https://www.kaggle.com/citylines/city-lines)\n",
    "\n",
    "### Context\n",
    "\n",
    "What did the expansion of the London Underground, the world’s first underground railway which opened in 1863, look like? What about the transportation system in your home city? Citylines collects data on transportation lines across the world so you can answer questions like these and more.\n",
    "\n",
    "### Content\n",
    "\n",
    "This dataset, originally shared and updated here, includes transportation line data from a number of cities from around the world including London, Berlin, Mexico City, Barcelona, Washington D.C., and others covering many thousands of kilometers of lines.\n",
    "\n",
    "### Inspiration\n",
    "\n",
    "You can explore geometries to generate maps and even see how lines have changed over time based on historical records. Want to include shapefiles with your analysis? Simply publish a shapefile dataset here and then create a new kernel (R or Python script/notebook), adding your shapefile as an additional datasource."
   ]
  },
  {
   "cell_type": "markdown",
   "metadata": {},
   "source": [
    "- [cities.csv](~/datasets/cities.csv) 7 columns\n",
    "- [lines.csv](~/datasets/lines.csv) 7 columns\n",
    "- [station_lines.csv](~/datasets/station_lines.csv) 6 columns\n",
    "- [stations.csv](~/datasets/stations.csv) 7 columns\n",
    "- [systems.csv](~/datasets/systems.csv) 3 columns\n",
    "- [track_lines.csv](~/datasets/track_lines.csv) 6 columns\n",
    "- [tracks.csv](~/datasets/tracks.csv) 7 columns"
   ]
  },
  {
   "cell_type": "code",
   "execution_count": 26,
   "metadata": {},
   "outputs": [],
   "source": [
    "import psycopg2\n",
    "import pandas as pd"
   ]
  },
  {
   "cell_type": "code",
   "execution_count": 27,
   "metadata": {},
   "outputs": [],
   "source": [
    "from configparser import ConfigParser\n",
    " \n",
    "def config(filename='database.ini', section='postgresql'):\n",
    "    # create a parser\n",
    "    parser = ConfigParser()\n",
    "    # read config file\n",
    "    parser.read(filename)\n",
    " \n",
    "    # get section, default to postgresql\n",
    "    db = {}\n",
    "    if parser.has_section(section):\n",
    "        params = parser.items(section)\n",
    "        for param in params:\n",
    "            db[param[0]] = param[1]\n",
    "    else:\n",
    "        raise Exception('Section {0} not found in the {1} file'.format(section, filename))\n",
    " \n",
    "    return db"
   ]
  },
  {
   "cell_type": "code",
   "execution_count": 44,
   "metadata": {},
   "outputs": [],
   "source": [
    "from config import config\n",
    " \n",
    "def connect(query):\n",
    "    \"\"\" Connect to the PostgreSQL database server \"\"\"\n",
    "    conn = None\n",
    "    try:\n",
    "        # read connection parameters\n",
    "        params = config()\n",
    " \n",
    "        # connect to the PostgreSQL server\n",
    "        print('Connecting to the PostgreSQL database...')\n",
    "        conn = psycopg2.connect(**params)\n",
    "      \n",
    "        output = pd.read_sql(query, conn)\n",
    "        return output\n",
    "\n",
    "    except (Exception, psycopg2.DatabaseError) as error:\n",
    "        print(error)\n",
    "    finally:\n",
    "        if conn is not None:\n",
    "            conn.close()\n",
    "            print('Database connection closed.')"
   ]
  },
  {
   "cell_type": "code",
   "execution_count": 39,
   "metadata": {},
   "outputs": [],
   "source": [
    "def showTables():\n",
    "    \"\"\" Connect to the PostgreSQL database server \"\"\"\n",
    "    conn = None\n",
    "    try:\n",
    "        # read connection parameters\n",
    "        params = config()\n",
    " \n",
    "        # connect to the PostgreSQL server\n",
    "        print('Connecting to the PostgreSQL database...')\n",
    "        conn = psycopg2.connect(**params)\n",
    "      \n",
    "        # create a cursor\n",
    "        cur = conn.cursor()\n",
    "        \n",
    "   # execute a statement\n",
    "        tables = []\n",
    "        cur.execute(\"SELECT table_name FROM information_schema.tables WHERE table_schema = 'public';\")\n",
    "        for table in cur.fetchall():\n",
    "            tables.append(table)             \n",
    "        return tables\n",
    "       \n",
    "       # close the communication with the PostgreSQL\n",
    "        cur.close()\n",
    "    except (Exception, psycopg2.DatabaseError) as error:\n",
    "        print(error)\n",
    "    finally:\n",
    "        if conn is not None:\n",
    "            conn.close()\n",
    "            print('Database connection closed.')"
   ]
  },
  {
   "cell_type": "code",
   "execution_count": 42,
   "metadata": {},
   "outputs": [],
   "source": [
    "def showFields(table_name):\n",
    "    \"\"\" Connect to the PostgreSQL database server \"\"\"\n",
    "    conn = None\n",
    "    try:\n",
    "        # read connection parameters\n",
    "        params = config()\n",
    " \n",
    "        # connect to the PostgreSQL server\n",
    "        print('Connecting to the PostgreSQL database...')\n",
    "        conn = psycopg2.connect(**params)\n",
    "      \n",
    "        # create a cursor\n",
    "        cur = conn.cursor()\n",
    "        \n",
    "   # execute a statement\n",
    "\n",
    "        cur.execute(\"Select * FROM \" + table_name, \" LIMIT 0;\")\n",
    "        colnames = [desc[0] for desc in cur.description]\n",
    "        return colnames\n",
    "       \n",
    "       # close the communication with the PostgreSQL\n",
    "        cur.close()\n",
    "    except (Exception, psycopg2.DatabaseError) as error:\n",
    "        print(error)\n",
    "    finally:\n",
    "        if conn is not None:\n",
    "            conn.close()\n",
    "            print('Database connection closed.')"
   ]
  },
  {
   "cell_type": "code",
   "execution_count": 40,
   "metadata": {},
   "outputs": [
    {
     "name": "stdout",
     "output_type": "stream",
     "text": "Connecting to the PostgreSQL database...\nDatabase connection closed.\n"
    },
    {
     "data": {
      "text/plain": "[('data_src',),\n ('datsrcln',),\n ('fd_group',),\n ('footnote',),\n ('deriv_cd',),\n ('nutr_def',),\n ('src_cd',),\n ('nut_data',),\n ('food_des',),\n ('weight',)]"
     },
     "execution_count": 40,
     "metadata": {},
     "output_type": "execute_result"
    }
   ],
   "source": [
    "showTables()"
   ]
  },
  {
   "cell_type": "code",
   "execution_count": 43,
   "metadata": {},
   "outputs": [
    {
     "name": "stdout",
     "output_type": "stream",
     "text": "Connecting to the PostgreSQL database...\nDatabase connection closed.\n"
    },
    {
     "data": {
      "text/plain": "['ndb_no',\n 'nutr_no',\n 'nutr_val',\n 'num_data_pts',\n 'std_error',\n 'src_cd',\n 'deriv_cd',\n 'ref_ndb_no',\n 'add_nutr_mark',\n 'num_studies',\n 'min',\n 'max',\n 'df',\n 'low_eb',\n 'up_eb',\n 'stat_cmt',\n 'cc']"
     },
     "execution_count": 43,
     "metadata": {},
     "output_type": "execute_result"
    }
   ],
   "source": [
    "showFields(\"nut_data\")"
   ]
  },
  {
   "cell_type": "code",
   "execution_count": 48,
   "metadata": {},
   "outputs": [
    {
     "name": "stdout",
     "output_type": "stream",
     "text": "Connecting to the PostgreSQL database...\nDatabase connection closed.\n"
    },
    {
     "data": {
      "text/html": "<div>\n<style scoped>\n    .dataframe tbody tr th:only-of-type {\n        vertical-align: middle;\n    }\n\n    .dataframe tbody tr th {\n        vertical-align: top;\n    }\n\n    .dataframe thead th {\n        text-align: right;\n    }\n</style>\n<table border=\"1\" class=\"dataframe\">\n  <thead>\n    <tr style=\"text-align: right;\">\n      <th></th>\n      <th>ndb_no</th>\n      <th>nutr_no</th>\n      <th>nutr_val</th>\n      <th>num_data_pts</th>\n      <th>std_error</th>\n      <th>src_cd</th>\n      <th>deriv_cd</th>\n      <th>ref_ndb_no</th>\n      <th>add_nutr_mark</th>\n      <th>num_studies</th>\n      <th>min</th>\n      <th>max</th>\n      <th>df</th>\n      <th>low_eb</th>\n      <th>up_eb</th>\n      <th>stat_cmt</th>\n      <th>cc</th>\n    </tr>\n  </thead>\n  <tbody>\n    <tr>\n      <th>0</th>\n      <td>01001</td>\n      <td>205</td>\n      <td>0.06</td>\n      <td>0.0</td>\n      <td>NaN</td>\n      <td>4</td>\n      <td>NC</td>\n      <td></td>\n      <td></td>\n      <td>NaN</td>\n      <td>NaN</td>\n      <td>NaN</td>\n      <td>NaN</td>\n      <td>NaN</td>\n      <td>NaN</td>\n      <td></td>\n      <td>None</td>\n    </tr>\n    <tr>\n      <th>1</th>\n      <td>01001</td>\n      <td>208</td>\n      <td>717.00</td>\n      <td>0.0</td>\n      <td>NaN</td>\n      <td>4</td>\n      <td>NC</td>\n      <td></td>\n      <td></td>\n      <td>NaN</td>\n      <td>NaN</td>\n      <td>NaN</td>\n      <td>NaN</td>\n      <td>NaN</td>\n      <td>NaN</td>\n      <td></td>\n      <td>None</td>\n    </tr>\n    <tr>\n      <th>2</th>\n      <td>01001</td>\n      <td>262</td>\n      <td>0.00</td>\n      <td>0.0</td>\n      <td>NaN</td>\n      <td>7</td>\n      <td>Z</td>\n      <td></td>\n      <td></td>\n      <td>NaN</td>\n      <td>NaN</td>\n      <td>NaN</td>\n      <td>NaN</td>\n      <td>NaN</td>\n      <td>NaN</td>\n      <td></td>\n      <td>None</td>\n    </tr>\n    <tr>\n      <th>3</th>\n      <td>01001</td>\n      <td>263</td>\n      <td>0.00</td>\n      <td>0.0</td>\n      <td>NaN</td>\n      <td>7</td>\n      <td>Z</td>\n      <td></td>\n      <td></td>\n      <td>NaN</td>\n      <td>NaN</td>\n      <td>NaN</td>\n      <td>NaN</td>\n      <td>NaN</td>\n      <td>NaN</td>\n      <td></td>\n      <td>None</td>\n    </tr>\n    <tr>\n      <th>4</th>\n      <td>01001</td>\n      <td>269</td>\n      <td>0.06</td>\n      <td>0.0</td>\n      <td>NaN</td>\n      <td>4</td>\n      <td>NR</td>\n      <td></td>\n      <td></td>\n      <td>NaN</td>\n      <td>NaN</td>\n      <td>NaN</td>\n      <td>NaN</td>\n      <td>NaN</td>\n      <td>NaN</td>\n      <td></td>\n      <td>None</td>\n    </tr>\n  </tbody>\n</table>\n</div>",
      "text/plain": "  ndb_no nutr_no  nutr_val  num_data_pts  std_error  src_cd deriv_cd  \\\n0  01001     205      0.06           0.0        NaN       4       NC   \n1  01001     208    717.00           0.0        NaN       4       NC   \n2  01001     262      0.00           0.0        NaN       7        Z   \n3  01001     263      0.00           0.0        NaN       7        Z   \n4  01001     269      0.06           0.0        NaN       4       NR   \n\n  ref_ndb_no add_nutr_mark  num_studies  min  max  df  low_eb  up_eb stat_cmt  \\\n0                                   NaN  NaN  NaN NaN     NaN    NaN            \n1                                   NaN  NaN  NaN NaN     NaN    NaN            \n2                                   NaN  NaN  NaN NaN     NaN    NaN            \n3                                   NaN  NaN  NaN NaN     NaN    NaN            \n4                                   NaN  NaN  NaN NaN     NaN    NaN            \n\n     cc  \n0  None  \n1  None  \n2  None  \n3  None  \n4  None  "
     },
     "execution_count": 48,
     "metadata": {},
     "output_type": "execute_result"
    }
   ],
   "source": [
    "query = \"SELECT * FROM nut_data;\"\n",
    "nut_data = connect(query)\n",
    "nut_data.head()"
   ]
  },
  {
   "cell_type": "code",
   "execution_count": 3,
   "metadata": {},
   "outputs": [
    {
     "ename": "ModuleNotFoundError",
     "evalue": "No module named 'geopandas'",
     "output_type": "error",
     "traceback": [
      "\u001b[0;31m---------------------------------------------------------------------------\u001b[0m",
      "\u001b[0;31mModuleNotFoundError\u001b[0m                       Traceback (most recent call last)",
      "\u001b[0;32m<ipython-input-3-be6da80e58a4>\u001b[0m in \u001b[0;36m<module>\u001b[0;34m\u001b[0m\n\u001b[0;32m----> 1\u001b[0;31m \u001b[0;32mimport\u001b[0m \u001b[0mgeopandas\u001b[0m \u001b[0;32mas\u001b[0m \u001b[0mgpd\u001b[0m\u001b[0;34m\u001b[0m\u001b[0;34m\u001b[0m\u001b[0m\n\u001b[0m\u001b[1;32m      2\u001b[0m \u001b[0;31m# stations = gpd.read_file('./datasets/stations.geojson')\u001b[0m\u001b[0;34m\u001b[0m\u001b[0;34m\u001b[0m\u001b[0;34m\u001b[0m\u001b[0m\n\u001b[1;32m      3\u001b[0m \u001b[0;31m# stations.head()\u001b[0m\u001b[0;34m\u001b[0m\u001b[0;34m\u001b[0m\u001b[0;34m\u001b[0m\u001b[0m\n",
      "\u001b[0;31mModuleNotFoundError\u001b[0m: No module named 'geopandas'"
     ]
    }
   ],
   "source": [
    "import geopandas as gpd\n",
    "# stations = gpd.read_file('./datasets/stations.geojson')\n",
    "# stations.head()"
   ]
  },
  {
   "cell_type": "code",
   "execution_count": 5,
   "metadata": {},
   "outputs": [
    {
     "name": "stdout",
     "output_type": "stream",
     "text": "Gebang\", \"opening\": 2011}, \"type\": \"Feature\"}, {\"geometry\": {\"coordinates\": [106.93965, -6.21398], \"type\": \"Point\"}, \"properties\": {\"buildstart\": 2010, \"closure\": 999999, \"id\": 17573, \"klass\": \"Station\", \"lines\": [{\"line\": \"TJ koridor 11\", \"line_url_name\": \"1789-tj-koridor-11\", \"system\": \"Jakarta BRT\"}], \"name\": \"Penggilingan\", \"opening\": 2011}, \"type\": \"Feature\"}, {\"geometry\": {\"coordinates\": [106.9306, -6.21667], \"type\": \"Point\"}, \"properties\": {\"buildstart\": 2010, \"closure\": 999999, \"id\": 17574, \"klass\": \"Station\", \"lines\": [{\"line\": \"TJ koridor 11\", \"line_url_name\": \"1789-tj-koridor-11\", \"system\": \"Jakarta BRT\"}], \"name\": \"Perumnas Klender\", \"opening\": 2011}, \"type\": \"Feature\"}, {\"geometry\": {\"coordinates\": [106.92441, -6.21598], \"type\": \"Point\"}, \"properties\": {\"buildstart\": 2010, \"closure\": 999999, \"id\": 17575, \"klass\": \"Station\", \"lines\": [{\"line\": \"TJ koridor 11\", \"line_url_name\": \"1789-tj-koridor-11\", \"system\": \"Jakarta BRT\"}], \"name\": \"Flyover Raden Inten\", \"opening\": 2011}, \"type\": \"Feature\"}, {\"geometry\": {\"coordinates\": [106.91787, -6.21514], \"type\": \"Point\"}, \"properties\": {\"buildstart\": 2010, \"closure\": 999999, \"id\": 17576, \"klass\": \"Station\", \"lines\": [{\"line\": \"TJ koridor 11\", \"line_url_name\": \"1789-tj-koridor-11\", \"system\": \"Jakarta BRT\"}], \"name\": \"Buaran\", \"opening\": 2011}, \"type\": \"Feature\"}, {\"geometry\": {\"coordinates\": [106.91172, -6.21438], \"type\": \"Point\"}, \"properties\": {\"buildstart\": 2010, \"closure\": 999999, \"id\": 17577, \"klass\": \"Station\", \"lines\": [{\"line\": \"TJ koridor 11\", \"line_url_name\": \"1789-tj-koridor-11\", \"system\": \"Jakarta BRT\"}], \"name\": \"Kampung Sumur\", \"opening\": 2011}, \"type\": \"Feature\"}, {\"geometry\": {\"coordinates\": [106.90299, -6.21358], \"type\": \"Point\"}, \"properties\": {\"buildstart\": 2010, \"closure\": 999999, \"id\": 17578, \"klass\": \"Station\", \"lines\": [{\"line\": \"TJ koridor 11\", \"line_url_name\": \"1789-tj-koridor-11\", \"system\": \"Jakarta BRT\"}], \"name\": \"Flyover Klender\", \"opening\": 2011}, \"type\": \"Feature\"}, {\"geometry\": {\"coordinates\": [106.89878, -6.21349], \"type\": \"Point\"}, \"properties\": {\"buildstart\": 2010, \"closure\": 999999, \"id\": 17579, \"klass\": \"Station\", \"lines\": [{\"line\": \"TJ koridor 11\", \"line_url_name\": \"1789-tj-koridor-11\", \"system\": \"Jakarta BRT\"}], \"name\": \"Stasiun Klender\", \"opening\": 2011}, \"type\": \"Feature\"}, {\"geometry\": {\"coordinates\": [106.88959, -6.21374], \"type\": \"Point\"}, \"properties\": {\"buildstart\": 2010, \"closure\": 999999, \"id\": 17580, \"klass\": \"Station\", \"lines\": [{\"line\": \"TJ koridor 11\", \"line_url_name\": \"1789-tj-koridor-11\", \"system\": \"Jakarta BRT\"}], \"name\": \"Cipinang\", \"opening\": 2011}, \"type\": \"Feature\"}, {\"geometry\": {\"coordinates\": [106.87824, -6.21487], \"type\": \"Point\"}, \"properties\": {\"buildstart\": 2010, \"closure\": 999999, \"id\": 17594, \"klass\": \"Station\", \"lines\": [{\"line\": \"TJ koridor 11\", \"line_url_name\": \"1789-tj-koridor-11\", \"system\": \"Jakarta BRT\"}], \"name\": \"Pasar Enjo\", \"opening\": 2011}, \"type\": \"Feature\"}, {\"geometry\": {\"coordinates\": [106.86807, -6.21556], \"type\": \"Point\"}, \"properties\": {\"buildstart\": 2010, \"closure\": 999999, \"id\": 17595, \"klass\": \"Station\", \"lines\": [{\"line\": \"TJ koridor 11\", \"line_url_name\": \"1789-tj-koridor-11\", \"system\": \"Jakarta BRT\"}], \"name\": \"Stasiun Jatinegara 2\", \"opening\": 2011}, \"type\": \"Feature\"}, {\"geometry\": {\"coordinates\": [106.86811, -6.22147], \"type\": \"Point\"}, \"properties\": {\"buildstart\": 2010, \"closure\": 999999, \"id\": 17596, \"klass\": \"Station\", \"lines\": [{\"line\": \"TJ koridor 11\", \"line_url_name\": \"1789-tj-koridor-11\", \"system\": \"Jakarta BRT\"}], \"name\": \"Jatinegara RS Premier\", \"opening\": 2011}, \"type\": \"Feature\"}, {\"geometry\": {\"coordinates\": [106.86691, -6.22454], \"type\": \"Point\"}, \"properties\": {\"buildstart\": 2011, \"closure\": 999999, \"id\": 17597, \"klass\": \"Station\", \"lines\": [{\"line\": \"TJ koridor 11\", \"line_url_name\": \"1789-tj-koridor-11\", \"system\": \"Jakarta BRT\"}], \"name\": \"Kampung Melayu\", \"opening\": 2011}, \"type\": \"Feature\"}, {\"geometry\": {\"coordinates\": [106.83073, -6.24017], \"type\": \"Point\"}, \"properties\": {\"buildstart\": 2015, \"closure\": 999999, \"id\": 17598, \"klass\": \"Station\", \"lines\": [{\"line\": \"TJ koridor 13\", \"line_url_name\": \"1791-tj-koridor-13\", \"system\": \"Jakarta BRT\"}], \"name\": \"Tendean\", \"opening\": 2017}, \"type\": \"Feature\"}, {\"geometry\": {\"coordinates\": [106.88232, -6.21464], \"type\": \"Point\"}, \"properties\": {\"buildstart\": 2010, \"closure\": 999999, \"id\": 17593, \"klass\": \"Station\", \"lines\": [{\"line\": \"TJ koridor 11\", \"line_url_name\": \"1789-tj-koridor-11\", \"system\": \"Jakarta BRT\"}], \"name\": \"Imigrasi Jakarta Timur\", \"opening\": 2011}, \"type\": \"Feature\"}, {\"geometry\": {\"coordinates\": [106.81604, -6.23892], \"type\": \"Point\"}, \"properties\": {\"buildstart\": 2015, \"closure\": 999999, \"id\": 17653, \"klass\": \"Station\", \"lines\": [{\"line\": \"TJ koridor 13\", \"line_url_name\": \"1791-tj-koridor-13\", \"system\": \"Jakarta BRT\"}], \"name\": \"Rawa Barat\", \"opening\": 2018}, \"type\": \"Feature\"}, {\"geometry\": {\"coordinates\": [106.80772, -6.23918], \"type\": \"Point\"}, \"properties\": {\"buildstart\": 2015, \"closure\": 999999, \"id\": 17654, \"klass\": \"Station\", \"lines\": [{\"line\": \"TJ koridor 13\", \"line_url_name\": \"1791-tj-koridor-13\", \"system\": \"Jakarta BRT\"}], \"name\": \"Tirtayasa\", \"opening\": 2017}, \"type\": \"Feature\"}, {\"geometry\": {\"coordinates\": [106.79842, -6.23991], \"type\": \"Point\"}, \"properties\": {\"buildstart\": 2015, \"closure\": 999999, \"id\": 17655, \"klass\": \"Station\", \"lines\": [{\"line\": \"TJ koridor 13\", \"line_url_name\": \"1791-tj-koridor-13\", \"system\": \"Jakarta BRT\"}], \"name\": \"CSW\", \"opening\": 2024}, \"type\": \"Feature\"}, {\"geometry\": {\"coordinates\": [106.79083, -6.24188], \"type\": \"Point\"}, \"properties\": {\"buildstart\": 2015, \"closure\": 999999, \"id\": 17656, \"klass\": \"Station\", \"lines\": [{\"line\": \"TJ koridor 13\", \"line_url_name\": \"1791-tj-koridor-13\", \"system\": \"Jakarta BRT\"}], \"name\": \"Mayestik\", \"opening\": 2017}, \"type\": \"Feature\"}, {\"geometry\": {\"coordinates\": [106.77751, -6.23829], \"type\": \"Point\"}, \"properties\": {\"buildstart\": 2015, \"closure\": 999999, \"id\": 17658, \"klass\": \"Station\", \"lines\": [{\"line\": \"TJ koridor 13\", \"line_url_name\": \"1791-tj-koridor-13\", \"system\": \"Jakarta BRT\"}], \"name\": \"Kebayoran Lama\", \"opening\": 2017}, \"type\": \"Feature\"}, {\"geometry\": {\"coordinates\": [106.77121, -6.23802], \"type\": \"Point\"}, \"properties\": {\"buildstart\": 2015, \"closure\": 999999, \"id\": 17657, \"klass\": \"Station\", \"lines\": [{\"line\": \"TJ koridor 13\", \"line_url_name\": \"1791-tj-koridor-13\", \"system\": \"Jakarta BRT\"}], \"name\": \"Seskoal\", \"opening\": 2017}, \"type\": \"Feature\"}, {\"geometry\": {\"coordinates\": [106.76548, -6.2378], \"type\": \"Point\"}, \"properties\": {\"buildstart\": 2015, \"closure\": 999999, \"id\": 17659, \"klass\": \"Station\", \"lines\": [{\"line\": \"TJ koridor 13\", \"line_url_name\": \"1791-tj-koridor-13\", \"system\": \"Jakarta BRT\"}], \"name\": \"Cipulir\", \"opening\": 2017}, \"type\": \"Feature\"}, {\"geometry\": {\"coordinates\": [106.76068, -6.23755], \"type\": \"Point\"}, \"properties\": {\"buildstart\": 2015, \"closure\": 999999, \"id\": 17660, \"klass\": \"Station\", \"lines\": [{\"line\": \"TJ koridor 13\", \"line_url_name\": \"1791-tj-koridor-13\", \"system\": \"Jakarta BRT\"}], \"name\": \"Swadarma\", \"opening\": 2018}, \"type\": \"Feature\"}, {\"geometry\": {\"coordinates\": [106.75499, -6.23615], \"type\": \"Point\"}, \"properties\": {\"buildstart\": 2015, \"closure\": 999999, \"id\": 17661, \"klass\": \"Station\", \"lines\": [{\"line\": \"TJ koridor 13\", \"line_url_name\": \"1791-tj-koridor-13\", \"system\": \"Jakarta BRT\"}], \"name\": \"JORR\", \"opening\": 2018}, \"type\": \"Feature\"}, {\"geometry\": {\"coordinates\": [106.74773, -6.23646], \"type\": \"Point\"}, \"properties\": {\"buildstart\": 2015, \"closure\": 999999, \"id\": 17662, \"klass\": \"Station\", \"lines\": [{\"line\": \"TJ koridor 13\", \"line_url_name\": \"1791-tj-koridor-13\", \"system\": \"Jakarta BRT\"}], \"name\": \"Adam Malik\", \"opening\": 2017}, \"type\": \"Feature\"}, {\"geometry\": {\"coordinates\": [106.72383, -6.2305], \"type\": \"Point\"}, \"properties\": {\"buildstart\": 2015, \"closure\": 999999, \"id\": 17663, \"klass\": \"Station\", \"lines\": [{\"line\": \"TJ koridor 13\", \"line_url_name\": \"1791-tj-koridor-13\", \"system\": \"Jakarta BRT\"}], \"name\": \"Puri Beta 2\", \"opening\": 2017}, \"type\": \"Feature\"}, {\"geometry\": {\"coordinates\": [106.70907, -6.22361], \"type\": \"Point\"}, \"properties\": {\"buildstart\": 2017, \"closure\": 999999, \"id\": 17664, \"klass\": \"Station\", \"lines\": [{\"line\": \"TJ koridor 13\", \"line_url_name\": \"1791-tj-koridor-13\", \"system\": \"Jakarta BRT\"}], \"name\": \"CBD Ciledug\", \"opening\": 2018}, \"type\": \"Feature\"}, {\"geometry\": {\"coordinates\": [106.72594, -6.23052], \"type\": \"Point\"}, \"properties\": {\"buildstart\": 2017, \"closure\": 999999, \"id\": 17665, \"klass\": \"Station\", \"lines\": [{\"line\": \"TJ koridor 13\", \"line_url_name\": \"1791-tj-koridor-13\", \"system\": \"Jakarta BRT\"}], \"name\": \"Puri Beta 1\", \"opening\": 2017}, \"type\": \"Feature\"}, {\"geometry\": {\"coordinates\": [106.61894, -6.3297], \"type\": \"Point\"}, \"properties\": {\"buildstart\": 2011, \"closure\": 999999, \"id\": 17666, \"klass\": \"Station\", \"lines\": [{\"line\": \"Rangkas Bitung Line\", \"line_url_name\": \"2056-rangkas-bitung-line\", \"system\": \"Commuter Line\"}], \"name\": \"Cicayur\", \"opening\": 2011}, \"type\": \"Feature\"}, {\"geometry\": {\"coordinates\": [106.5098, -6.35438], \"type\": \"Point\"}, \"properties\": {\"buildstart\": 2013, \"closure\": 999999, \"id\": 17668, \"klass\": \"Station\", \"lines\": [{\"line\": \"Rangkas Bitung Line\", \"line_url_name\": \"2056-rangkas-bitung-line\", \"system\": \"Commuter Line\"}], \"name\": \"Cilejit\", \"opening\": 2013}, \"type\": \"Feature\"}, {\"geometry\": {\"coordinates\": [106.49255, -6.33795], \"type\": \"Point\"}, \"properties\": {\"buildstart\": 2013, \"closure\": 999999, \"id\": 17669, \"klass\": \"Station\", \"lines\": [{\"line\": \"Rangkas Bitung Line\", \"line_url_name\": \"2056-rangkas-bitung-line\", \"system\": \"Commuter Line\"}], \"name\": \"Daru\", \"opening\": 2013}, \"type\": \"Feature\"}, {\"geometry\": {\"coordinates\": [106.46177, -6.32737], \"type\": \"Point\"}, \"properties\": {\"buildstart\": 2013, \"closure\": 999999, \"id\": 17670, \"klass\": \"Station\", \"lines\": [{\"line\": \"Rangkas Bitung Line\", \"line_url_name\": \"2056-rangkas-bitung-line\", \"system\": \"Commuter Line\"}], \"name\": \"Tenjo\", \"opening\": 2013}, \"type\": \"Feature\"}, {\"geometry\": {\"coordinates\": [106.43413, -6.32888], \"type\": \"Point\"}, \"properties\": {\"buildstart\": 2013, \"closure\": 999999, \"id\": 17671, \"klass\": \"Station\", \"lines\": [{\"line\": \"Rangkas Bitung Line\", \"line_url_name\": \"2056-rangkas-bitung-line\", \"system\": \"Commuter Line\"}], \"name\": \"Tigaraksa\", \"opening\": 2013}, \"type\": \"Feature\"}, {\"geometry\": {\"coordinates\": [106.39635, -6.33246], \"type\": \"Point\"}, \"properties\": {\"buildstart\": 2013, \"closure\": 999999, \"id\": 17672, \"klass\": \"Station\", \"lines\": [{\"line\": \"Rangkas Bitung Line\", \"line_url_name\": \"2056-rangkas-bitung-line\", \"system\": \"Commuter Line\"}], \"name\": \"Maja\", \"opening\": 2013}, \"type\": \"Feature\"}, {\"geometry\": {\"coordinates\": [106.33269, -6.33509], \"type\": \"Point\"}, \"properties\": {\"buildstart\": 2017, \"closure\": 999999, \"id\": 17673, \"klass\": \"Station\", \"lines\": [{\"line\": \"Rangkas Bitung Line\", \"line_url_name\": \"2056-rangkas-bitung-line\", \"system\": \"Commuter Line\"}], \"name\": \"Citeras\", \"opening\": 2017}, \"type\": \"Feature\"}, {\"geometry\": {\"coordinates\": [106.25152, -6.3527], \"type\": \"Point\"}, \"properties\": {\"buildstart\": 2017, \"closure\": 999999, \"id\": 17674, \"klass\": \"Station\", \"lines\": [{\"line\": \"Rangkas Bitung Line\", \"line_url_name\": \"2056-rangkas-bitung-line\", \"system\": \"Commuter Line\"}], \"name\": \"Rangkasbitung\", \"opening\": 2017}, \"type\": \"Feature\"}, {\"geometry\": {\"coordinates\": [106.56952, -6.3443], \"type\": \"Point\"}, \"properties\": {\"buildstart\": 2011, \"closure\": 999999, \"id\": 17667, \"klass\": \"Station\", \"lines\": [{\"line\": \"Rangkas Bitung Line\", \"line_url_name\": \"2056-rangkas-bitung-line\", \"system\": \"Commuter Line\"}], \"name\": \"Parung Panjang\", \"opening\": 2011}, \"type\": \"Feature\"}, {\"geometry\": {\"coordinates\": [106.4118, -6.33576], \"type\": \"Point\"}, \"properties\": {\"buildstart\": 2013, \"closure\": 999999, \"id\": 17675, \"klass\": \"Station\", \"lines\": [{\"line\": \"Rangkas Bitung Line\", \"line_url_name\": \"2056-rangkas-bitung-line\", \"system\": \"Commuter Line\"}], \"name\": \"Cikoya\", \"opening\": 2013}, \"type\": \"Feature\"}, {\"geometry\": {\"coordinates\": [106.66536, -6.17218], \"type\": \"Point\"}, \"properties\": {\"buildstart\": 2015, \"closure\": 999999, \"id\": 17676, \"klass\": \"Station\", \"lines\": [{\"line\": \"Tangerang Line\", \"line_url_name\": \"2057-tangerang-line\", \"system\": \"Commuter Line\"}, {\"line\": \"Route 1\", \"line_url_name\": \"2059-route-1\", \"system\": \"Soetta ARS\"}], \"name\": \"Batu Ceper\", \"opening\": 2018}, \"type\": \"Feature\"}, {\"geometry\": {\"coordinates\": [106.81507, -6.13744], \"type\": \"Point\"}, \"properties\": {\"buildstart\": 2015, \"closure\": 999999, \"id\": 17678, \"klass\": \"Station\", \"lines\": [{\"line\": \"Tanjung Priok Line\", \"line_url_name\": \"2058-tanjung-priok-line\", \"system\": \"Commuter Line\"}], \"name\": \"Jakarta Kota\", \"opening\": 2015}, \"type\": \"Feature\"}, {\"geometry\": {\"coordinates\": [106.82836, -6.13296], \"type\": \"Point\"}, \"properties\": {\"buildstart\": 2015, \"closure\": 999999, \"id\": 17677, \"klass\": \"Station\", \"lines\": [{\"line\": \"Tanjung Priok Line\", \"line_url_name\": \"2058-tanjung-priok-line\", \"system\": \"Commuter Line\"}], \"name\": \"Kampung Bandan\", \"opening\": 2015}, \"type\": \"Feature\"}, {\"geometry\": {\"coordinates\": [106.80956, -6.22168], \"type\": \"Point\"}, \"properties\": {\"buildstart\": 2003, \"closure\": 2014, \"id\": 17680, \"klass\": \"Station\", \"lines\": [{\"line\": \"TJ koridor 1\", \"line_url_name\": \"1779-tj-koridor-1\", \"system\": \"Jakarta BRT\"}], \"name\": \"Polda Metro Jaya\", \"opening\": 2004}, \"type\": \"Feature\"}, {\"geometry\": {\"coordinates\": [106.82125, -6.21012], \"type\": \"Point\"}, \"properties\": {\"buildstart\": 2003, \"closure\": 2014, \"id\": 17681, \"klass\": \"Station\", \"lines\": [{\"line\": \"TJ koridor 1\", \"line_url_name\": \"1779-tj-koridor-1\", \"system\": \"Jakarta BRT\"}], \"name\": \"Setiabudi\", \"opening\": 2004}, \"type\": \"Feature\"}, {\"geometry\": {\"coordinates\": [106.82972, -6.20787], \"type\": \"Point\"}, \"properties\": {\"buildstart\": 2018, \"closure\": 999999, \"id\": 17683, \"klass\": \"Station\", \"lines\": [{\"line\": \"Line 1 (Phase 1A)\", \"line_url_name\": \"2060-line-1\", \"system\": \"Greater Jakarta LRT\"}], \"name\": \"Setiabudi\", \"opening\": 2021}, \"type\": \"Feature\"}, {\"geometry\": {\"coordinates\": [106.83242, -6.22233], \"type\": \"Point\"}, \"properties\": {\"buildstart\": 2018, \"closure\": 999999, \"id\": 17684, \"klass\": \"Station\", \"lines\": [{\"line\": \"Line 1 (Phase 1A)\", \"line_url_name\": \"2060-line-1\", \"system\": \"Greater Jakarta LRT\"}], \"name\": \"Kuningan Madya\", \"opening\": 2021}, \"type\": \"Feature\"}, {\"geometry\": {\"coordinates\": [106.85797, -6.24345], \"type\": \"Point\"}, \"properties\": {\"buildstart\": 2018, \"closure\": 999999, \"id\": 17685, \"klass\": \"Station\", \"lines\": [{\"line\": \"Line 1 (Phase 1A)\", \"line_url_name\": \"2060-line-1\", \"system\": \"Greater Jakarta LRT\"}], \"name\": \"Cawang Cikoko\", \"opening\": 2021}, \"type\": \"Feature\"}, {\"geometry\": {\"coordinates\": [106.86339, -6.24339], \"type\": \"Point\"}, \"properties\": {\"buildstart\": 2018, \"closure\": 999999, \"id\": 17686, \"klass\": \"Station\", \"lines\": [{\"line\": \"Line 1 (Phase 1A)\", \"line_url_name\": \"2060-line-1\", \"system\": \"Greater Jakarta LRT\"}], \"name\": \"Cawang Ciliwung\", \"opening\": 2021}, \"type\": \"Feature\"}, {\"geometry\": {\"coordinates\": [106.823, -6.19326], \"type\": \"Point\"}, \"properties\": {\"buildstart\": 2019, \"closure\": 999999, \"id\": 17679, \"klass\": \"Station\", \"lines\": [{\"line\": \"TJ koridor 1\", \"line_url_name\": \"1779-tj-koridor-1\", \"system\": \"Jakarta BRT\"}], \"name\": \"Bundaran HI\", \"opening\": 2019}, \"type\": \"Feature\"}, {\"geometry\": {\"coordinates\": [106.81817, -6.21476], \"type\": \"Point\"}, \"properties\": {\"buildstart\": 2003, \"closure\": 2014, \"id\": 17682, \"klass\": \"Station\", \"lines\": [{\"line\": \"TJ koridor 1\", \"line_url_name\": \"1779-tj-koridor-1\", \"system\": \"Jakarta BRT\"}], \"name\": \"Karet\", \"opening\": 2004}, \"type\": \"Feature\"}, {\"geometry\": {\"coordinates\": [106.82299, -6.18395], \"type\": \"Point\"}, \"properties\": {\"buildstart\": 2020, \"closure\": 999999, \"id\": 17756, \"klass\": \"Station\", \"lines\": [{\"line\": \"M2\", \"line_url_name\": \"2070-m2-phase-3\", \"system\": \"Jakarta MRT\"}, {\"line\": \"M1\", \"line_url_name\": \"2052-m1-phase-1\", \"system\": \"Jakarta MRT\"}], \"name\": \"Sarinah\", \"opening\": 2024}, \"type\": \"Feature\"}, {\"geometry\": {\"coordinates\": [106.82286, -6.17522], \"type\": \"Point\"}, \"properties\": {\"buildstart\": 2019, \"closure\": 999999, \"id\": 17757, \"klass\": \"Station\", \"lines\": [{\"line\": \"M1\", \"line_url_name\": \"2052-m1-phase-1\", \"system\": \"Jakarta MRT\"}], \"name\": \"Monas\", \"opening\": 2024}, \"type\": \"Feature\"}, {\"geometry\": {\"coordinates\": [106.82026, -6.16572], \"type\": \"Point\"}, \"properties\": {\"buildstart\": 2020, \"closure\": 999999, \"id\": 17758, \"klass\": \"Station\", \"lines\": [{\"line\": \"M1\", \"line_url_name\": \"2052-m1-phase-1\", \"system\": \"Jakarta MRT\"}], \"name\": \"Harmoni\", \"opening\": 2024}, \"type\": \"Feature\"}, {\"geometry\": {\"coordinates\": [106.81708, -6.15146], \"type\": \"Point\"}, \"properties\": {\"buildstart\": 2020, \"closure\": 999999, \"id\": 17760, \"klass\": \"Station\", \"lines\": [{\"line\": \"M1\", \"line_url_name\": \"2052-m1-phase-1\", \"system\": \"Jakarta MRT\"}], \"name\": \"Mangga Besar\", \"opening\": 2024}, \"type\": \"Feature\"}, {\"geometry\": {\"coordinates\": [106.82375, -6.18329], \"type\": \"Point\"}, \"properties\": {\"buildstart\": 9999, \"closure\": 999999, \"id\": 17759, \"klass\": \"Station\", \"lines\": [{\"line\": \"M2\", \"line_url_name\": \"2070-m2-phase-3\", \"system\": \"Jakarta MRT\"}], \"name\": \"Sarinah\", \"opening\": 9999}, \"type\": \"Feature\"}, {\"geometry\": {\"coordinates\": [106.81405, -6.13937], \"type\": \"Point\"}, \"properties\": {\"buildstart\": 2020, \"closure\": 999999, \"id\": 17761, \"klass\": \"Station\", \"lines\": [{\"line\": \"M1\", \"line_url_name\": \"2052-m1-phase-1\", \"system\": \"Jakarta MRT\"}], \"name\": \"Kota\", \"opening\": 2024}, \"type\": \"Feature\"}, {\"geometry\": {\"coordinates\": [106.81908, -6.16032], \"type\": \"Point\"}, \"properties\": {\"buildstart\": 2020, \"closure\": 999999, \"id\": 17762, \"klass\": \"Station\", \"lines\": [{\"line\": \"M1\", \"line_url_name\": \"2052-m1-phase-1\", \"system\": \"Jakarta MRT\"}], \"name\": \"Sawah Besar\", \"opening\": 2024}, \"type\": \"Feature\"}, {\"geometry\": {\"coordinates\": [106.81572, -6.14566], \"type\": \"Point\"}, \"properties\": {\"buildstart\": 2020, \"closure\": 999999, \"id\": 17763, \"klass\": \"Station\", \"lines\": [{\"line\": \"M1\", \"line_url_name\": \"2052-m1-phase-1\", \"system\": \"Jakarta MRT\"}], \"name\": \"Glodok\", \"opening\": 2024}, \"type\": \"Feature\"}, {\"geometry\": {\"coordinates\": [106.66537, -6.17224], \"type\": \"Point\"}, \"properties\": {\"buildstart\": 2011, \"closure\": 2018, \"id\": 17234, \"klass\": \"Station\", \"lines\": [{\"line\": \"Tangerang Line\", \"line_url_name\": \"2057-tangerang-line\", \"system\": \"Commuter Line\"}], \"name\": \"Batu Ceper\", \"opening\": 2011}, \"type\": \"Feature\"}, {\"geometry\": {\"coordinates\": [106.84991, -6.21035], \"type\": \"Point\"}, \"properties\": {\"buildstart\": 2019, \"closure\": 999999, \"id\": 18882, \"klass\": \"Station\", \"lines\": [{\"line\": \"Line 1\", \"line_url_name\": \"2063-line-1\", \"system\": \"Soetta APMS\"}, {\"line\": \"Loop Line\", \"line_url_name\": \"2053-loop-line\", \"system\": \"Commuter Line\"}, {\"line\": \"Cikarang Line\", \"line_url_name\": \"2054-cikarang-line\", \"system\": \"Commuter Line\"}, {\"line\": \"Central Line\", \"line_url_name\": \"2055-central-line\", \"system\": \"Commuter Line\"}], \"name\": \"Manggarai\", \"opening\": 2019}, \"type\": \"Feature\"}, {\"geometry\": {\"coordinates\": [106.82313, -6.19694], \"type\": \"Point\"}, \"properties\": {\"buildstart\": 2019, \"closure\": 999999, \"id\": 18945, \"klass\": \"Station\", \"lines\": [{\"line\": \"TJ koridor 1\", \"line_url_name\": \"1779-tj-koridor-1\", \"system\": \"Jakarta BRT\"}], \"name\": \"Tosari\", \"opening\": 2019}, \"type\": \"Feature\"}, {\"geometry\": {\"coordinates\": [106.90874, -6.18298], \"type\": \"Point\"}, \"properties\": {\"buildstart\": 2005, \"closure\": 999999, \"id\": 18946, \"klass\": \"Station\", \"lines\": [{\"line\": \"TJ koridor 2\", \"line_url_name\": \"1780-tj-koridor-2\", \"system\": \"Jakarta BRT\"}], \"name\": \"Pulogadung\", \"opening\": 2006}, \"type\": \"Feature\"}, {\"geometry\": {\"coordinates\": [106.8705, -6.16859], \"type\": \"Point\"}, \"properties\": {\"buildstart\": 2005, \"closure\": 999999, \"id\": 17296, \"klass\": \"Station\", \"lines\": [{\"line\": \"TJ koridor 2\", \"line_url_name\": \"1780-tj-koridor-2\", \"system\": \"Jakarta BRT\"}], \"name\": \"RS Islam\", \"opening\": 2006}, \"type\": \"Feature\"}], \"type\": \"FeatureCollection\"}\n"
    }
   ],
   "source": [
    "import geojson\n",
    "with open('./datasets/stations.geojson') as f:\n",
    "    gj = geojson.load(f)\n",
    "features = gj['features'][0]\n",
    "print(fea)"
   ]
  },
  {
   "cell_type": "code",
   "execution_count": 5,
   "metadata": {},
   "outputs": [
    {
     "data": {
      "text/html": "<div>\n<style scoped>\n    .dataframe tbody tr th:only-of-type {\n        vertical-align: middle;\n    }\n\n    .dataframe tbody tr th {\n        vertical-align: top;\n    }\n\n    .dataframe thead th {\n        text-align: right;\n    }\n</style>\n<table border=\"1\" class=\"dataframe\">\n  <thead>\n    <tr style=\"text-align: right;\">\n      <th></th>\n      <th>id</th>\n      <th>name</th>\n      <th>url_name</th>\n      <th>color</th>\n      <th>system_id</th>\n      <th>system_name</th>\n      <th>transport_mode_id</th>\n      <th>transport_mode_name</th>\n    </tr>\n  </thead>\n  <tbody>\n    <tr>\n      <th>0</th>\n      <td>2055</td>\n      <td>Central Line</td>\n      <td>2055-central-line</td>\n      <td>#dc143c</td>\n      <td>676</td>\n      <td>Commuter Line</td>\n      <td>4</td>\n      <td>heavy_rail</td>\n    </tr>\n    <tr>\n      <th>1</th>\n      <td>2054</td>\n      <td>Cikarang Line</td>\n      <td>2054-cikarang-line</td>\n      <td>#0058a5</td>\n      <td>676</td>\n      <td>Commuter Line</td>\n      <td>4</td>\n      <td>heavy_rail</td>\n    </tr>\n    <tr>\n      <th>2</th>\n      <td>2071</td>\n      <td>Line 1</td>\n      <td>2071-line-1</td>\n      <td>#d0021b</td>\n      <td>682</td>\n      <td>HSR Jakarta-Bandung</td>\n      <td>1</td>\n      <td>high_speed_rail</td>\n    </tr>\n    <tr>\n      <th>3</th>\n      <td>2063</td>\n      <td>Line 1</td>\n      <td>2063-line-1</td>\n      <td>#4a90e2</td>\n      <td>679</td>\n      <td>Soetta APMS</td>\n      <td>7</td>\n      <td>people_mover</td>\n    </tr>\n    <tr>\n      <th>4</th>\n      <td>2060</td>\n      <td>Line 1 (Phase 1A)</td>\n      <td>2060-line-1</td>\n      <td>#ff0000</td>\n      <td>678</td>\n      <td>Greater Jakarta LRT</td>\n      <td>5</td>\n      <td>light_rail</td>\n    </tr>\n    <tr>\n      <th>5</th>\n      <td>2061</td>\n      <td>Line 2 (Phase 1B)</td>\n      <td>2061-line-2</td>\n      <td>#9016b2</td>\n      <td>678</td>\n      <td>Greater Jakarta LRT</td>\n      <td>5</td>\n      <td>light_rail</td>\n    </tr>\n    <tr>\n      <th>6</th>\n      <td>2062</td>\n      <td>Line 3 (Planned)</td>\n      <td>2062-line-3</td>\n      <td>#80cb28</td>\n      <td>678</td>\n      <td>Greater Jakarta LRT</td>\n      <td>5</td>\n      <td>light_rail</td>\n    </tr>\n    <tr>\n      <th>7</th>\n      <td>1792</td>\n      <td>Line A (Phase 1)</td>\n      <td>1792-line-a</td>\n      <td>#f39700</td>\n      <td>662</td>\n      <td>Jakarta LRT</td>\n      <td>5</td>\n      <td>light_rail</td>\n    </tr>\n    <tr>\n      <th>8</th>\n      <td>2067</td>\n      <td>Line A (Phase 2) (Planned)</td>\n      <td>2067-line-a-(phase-2)-(planned)</td>\n      <td>#f39700</td>\n      <td>662</td>\n      <td>Jakarta LRT</td>\n      <td>5</td>\n      <td>light_rail</td>\n    </tr>\n    <tr>\n      <th>9</th>\n      <td>2053</td>\n      <td>Loop Line</td>\n      <td>2053-loop-line</td>\n      <td>#ffba00</td>\n      <td>676</td>\n      <td>Commuter Line</td>\n      <td>4</td>\n      <td>heavy_rail</td>\n    </tr>\n    <tr>\n      <th>10</th>\n      <td>2052</td>\n      <td>M1</td>\n      <td>2052-m1-phase-1</td>\n      <td>#ce0037</td>\n      <td>675</td>\n      <td>Jakarta MRT</td>\n      <td>4</td>\n      <td>heavy_rail</td>\n    </tr>\n    <tr>\n      <th>11</th>\n      <td>2070</td>\n      <td>M2</td>\n      <td>2070-m2-phase-3</td>\n      <td>#f1c400</td>\n      <td>675</td>\n      <td>Jakarta MRT</td>\n      <td>4</td>\n      <td>heavy_rail</td>\n    </tr>\n    <tr>\n      <th>12</th>\n      <td>2064</td>\n      <td>Nambo Line</td>\n      <td>2064-nambo-line</td>\n      <td>#ffba00</td>\n      <td>676</td>\n      <td>Commuter Line</td>\n      <td>4</td>\n      <td>heavy_rail</td>\n    </tr>\n    <tr>\n      <th>13</th>\n      <td>2056</td>\n      <td>Rangkas Bitung Line</td>\n      <td>2056-rangkas-bitung-line</td>\n      <td>#006400</td>\n      <td>676</td>\n      <td>Commuter Line</td>\n      <td>4</td>\n      <td>heavy_rail</td>\n    </tr>\n    <tr>\n      <th>14</th>\n      <td>2059</td>\n      <td>Route 1</td>\n      <td>2059-route-1</td>\n      <td>#0070bb</td>\n      <td>677</td>\n      <td>Soetta ARS</td>\n      <td>4</td>\n      <td>heavy_rail</td>\n    </tr>\n    <tr>\n      <th>15</th>\n      <td>1779</td>\n      <td>TJ koridor 1</td>\n      <td>1779-tj-koridor-1</td>\n      <td>#cf1d24</td>\n      <td>51</td>\n      <td>Jakarta BRT</td>\n      <td>6</td>\n      <td>brt</td>\n    </tr>\n    <tr>\n      <th>16</th>\n      <td>1780</td>\n      <td>TJ koridor 2</td>\n      <td>1780-tj-koridor-2</td>\n      <td>#264598</td>\n      <td>51</td>\n      <td>Jakarta BRT</td>\n      <td>6</td>\n      <td>brt</td>\n    </tr>\n    <tr>\n      <th>17</th>\n      <td>1781</td>\n      <td>TJ koridor 3</td>\n      <td>1781-tj-koridor-3</td>\n      <td>#fbc715</td>\n      <td>51</td>\n      <td>Jakarta BRT</td>\n      <td>6</td>\n      <td>brt</td>\n    </tr>\n    <tr>\n      <th>18</th>\n      <td>1782</td>\n      <td>TJ koridor 4</td>\n      <td>1782-tj-koridor-4</td>\n      <td>#562a62</td>\n      <td>51</td>\n      <td>Jakarta BRT</td>\n      <td>6</td>\n      <td>brt</td>\n    </tr>\n    <tr>\n      <th>19</th>\n      <td>1783</td>\n      <td>TJ koridor 5</td>\n      <td>1783-tj-koridor-5</td>\n      <td>#bc581a</td>\n      <td>51</td>\n      <td>Jakarta BRT</td>\n      <td>6</td>\n      <td>brt</td>\n    </tr>\n    <tr>\n      <th>20</th>\n      <td>1784</td>\n      <td>TJ koridor 6</td>\n      <td>1784-tj-koridor-6</td>\n      <td>#2ea43f</td>\n      <td>51</td>\n      <td>Jakarta BRT</td>\n      <td>6</td>\n      <td>brt</td>\n    </tr>\n    <tr>\n      <th>21</th>\n      <td>1785</td>\n      <td>TJ koridor 7</td>\n      <td>1785-tj-koridor-7</td>\n      <td>#e1245a</td>\n      <td>51</td>\n      <td>Jakarta BRT</td>\n      <td>6</td>\n      <td>brt</td>\n    </tr>\n    <tr>\n      <th>22</th>\n      <td>1786</td>\n      <td>TJ koridor 8</td>\n      <td>1786-tj-koridor-8</td>\n      <td>#cc2790</td>\n      <td>51</td>\n      <td>Jakarta BRT</td>\n      <td>6</td>\n      <td>brt</td>\n    </tr>\n    <tr>\n      <th>23</th>\n      <td>1787</td>\n      <td>TJ koridor 9</td>\n      <td>1787-tj-koridor-9</td>\n      <td>#409592</td>\n      <td>51</td>\n      <td>Jakarta BRT</td>\n      <td>6</td>\n      <td>brt</td>\n    </tr>\n    <tr>\n      <th>24</th>\n      <td>1788</td>\n      <td>TJ koridor 10</td>\n      <td>1788-tj-koridor-10</td>\n      <td>#8e181e</td>\n      <td>51</td>\n      <td>Jakarta BRT</td>\n      <td>6</td>\n      <td>brt</td>\n    </tr>\n    <tr>\n      <th>25</th>\n      <td>1789</td>\n      <td>TJ koridor 11</td>\n      <td>1789-tj-koridor-11</td>\n      <td>#2d4ca4</td>\n      <td>51</td>\n      <td>Jakarta BRT</td>\n      <td>6</td>\n      <td>brt</td>\n    </tr>\n    <tr>\n      <th>26</th>\n      <td>1790</td>\n      <td>TJ koridor 12</td>\n      <td>1790-tj-koridor-12</td>\n      <td>#62bb72</td>\n      <td>51</td>\n      <td>Jakarta BRT</td>\n      <td>6</td>\n      <td>brt</td>\n    </tr>\n    <tr>\n      <th>27</th>\n      <td>1791</td>\n      <td>TJ koridor 13</td>\n      <td>1791-tj-koridor-13</td>\n      <td>#802b7c</td>\n      <td>51</td>\n      <td>Jakarta BRT</td>\n      <td>6</td>\n      <td>brt</td>\n    </tr>\n    <tr>\n      <th>28</th>\n      <td>2057</td>\n      <td>Tangerang Line</td>\n      <td>2057-tangerang-line</td>\n      <td>#964b00</td>\n      <td>676</td>\n      <td>Commuter Line</td>\n      <td>4</td>\n      <td>heavy_rail</td>\n    </tr>\n    <tr>\n      <th>29</th>\n      <td>2058</td>\n      <td>Tanjung Priok Line</td>\n      <td>2058-tanjung-priok-line</td>\n      <td>#ffcbdb</td>\n      <td>676</td>\n      <td>Commuter Line</td>\n      <td>4</td>\n      <td>heavy_rail</td>\n    </tr>\n  </tbody>\n</table>\n</div>",
      "text/plain": "      id                        name  ... transport_mode_id transport_mode_name\n0   2055                Central Line  ...                 4          heavy_rail\n1   2054               Cikarang Line  ...                 4          heavy_rail\n2   2071                      Line 1  ...                 1     high_speed_rail\n3   2063                      Line 1  ...                 7        people_mover\n4   2060           Line 1 (Phase 1A)  ...                 5          light_rail\n5   2061           Line 2 (Phase 1B)  ...                 5          light_rail\n6   2062            Line 3 (Planned)  ...                 5          light_rail\n7   1792            Line A (Phase 1)  ...                 5          light_rail\n8   2067  Line A (Phase 2) (Planned)  ...                 5          light_rail\n9   2053                   Loop Line  ...                 4          heavy_rail\n10  2052                          M1  ...                 4          heavy_rail\n11  2070                          M2  ...                 4          heavy_rail\n12  2064                  Nambo Line  ...                 4          heavy_rail\n13  2056         Rangkas Bitung Line  ...                 4          heavy_rail\n14  2059                     Route 1  ...                 4          heavy_rail\n15  1779                TJ koridor 1  ...                 6                 brt\n16  1780                TJ koridor 2  ...                 6                 brt\n17  1781                TJ koridor 3  ...                 6                 brt\n18  1782                TJ koridor 4  ...                 6                 brt\n19  1783                TJ koridor 5  ...                 6                 brt\n20  1784                TJ koridor 6  ...                 6                 brt\n21  1785                TJ koridor 7  ...                 6                 brt\n22  1786                TJ koridor 8  ...                 6                 brt\n23  1787                TJ koridor 9  ...                 6                 brt\n24  1788               TJ koridor 10  ...                 6                 brt\n25  1789               TJ koridor 11  ...                 6                 brt\n26  1790               TJ koridor 12  ...                 6                 brt\n27  1791               TJ koridor 13  ...                 6                 brt\n28  2057              Tangerang Line  ...                 4          heavy_rail\n29  2058          Tanjung Priok Line  ...                 4          heavy_rail\n\n[30 rows x 8 columns]"
     },
     "execution_count": 5,
     "metadata": {},
     "output_type": "execute_result"
    }
   ],
   "source": [
    "import pandas as pd\n",
    "df1 = pd.read_json ('./datasets/lines_systems_and_modes.json', orient=\"records\")\n",
    "df1"
   ]
  },
  {
   "cell_type": "code",
   "execution_count": null,
   "metadata": {},
   "outputs": [],
   "source": []
  }
 ]
}